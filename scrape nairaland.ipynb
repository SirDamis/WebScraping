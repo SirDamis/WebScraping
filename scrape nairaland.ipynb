{
 "cells": [
  {
   "cell_type": "code",
   "execution_count": 1,
   "metadata": {},
   "outputs": [],
   "source": [
    "#### Nairaland Frontpage Scraping: \n",
    "##### It is a simple code to scrap Nairaland.com frontpage , the motive is to get the thread topic,url, time created, op(owner of post) and the category the thread belongs to.\n",
    "##### The entire exercise is done using python programming language and beautifulsoup"
   ]
  },
  {
   "cell_type": "code",
   "execution_count": 2,
   "metadata": {},
   "outputs": [],
   "source": [
    "#import beautifulsoup, requests\n",
    "from bs4 import BeautifulSoup\n",
    "import requests"
   ]
  },
  {
   "cell_type": "code",
   "execution_count": 3,
   "metadata": {},
   "outputs": [],
   "source": [
    "url = 'https://www.nairaland.com'\n",
    "req = requests.get(url).text\n",
    "soup = BeautifulSoup(req, 'html.parser')"
   ]
  },
  {
   "cell_type": "code",
   "execution_count": 4,
   "metadata": {},
   "outputs": [],
   "source": [
    "sel = soup.find('td', {'class':\"featured w\"})"
   ]
  },
  {
   "cell_type": "code",
   "execution_count": 5,
   "metadata": {},
   "outputs": [],
   "source": [
    "children = sel.findChildren('a', recursive=False)"
   ]
  },
  {
   "cell_type": "code",
   "execution_count": 6,
   "metadata": {
    "scrolled": true
   },
   "outputs": [
    {
     "name": "stdout",
     "output_type": "stream",
     "text": [
      "Topic:  Interview With A South Korean Ambassador On COVID-19\n",
      "url:  https://www.nairaland.com/5793969/interview-south-korean-ambassador-covid-19\n",
      "OP:  Seun\n",
      "Date Posted:  10:01pm On Apr 14\n",
      "Category:  Health\n",
      "\n",
      "Topic:  \"I Had An Unprotected Sex With 2 Ladies & This Is Now Happening To Me\" (Graphic Pics)\n",
      "url:  https://www.nairaland.com/5792833/white-tongue-after-unprotected-sex\n",
      "OP:  Scaredd\n",
      "Date Posted:  11:48am On Apr 14\n",
      "Category:  Health\n",
      "\n",
      "Topic:  Osun Governor, Oyetola Extends Lockdown By 14 Days\n",
      "url:  https://www.nairaland.com/5793860/osun-governor-oyetola-extends-lockdown\n",
      "OP:  Aminat508\n",
      "Date Posted:  8:50pm On Apr 14\n",
      "Category:  Politics\n",
      "\n",
      "Topic:  Tolu Ibitola Gives Palliatives To Residents Of Usi-Ekiti\n",
      "url:  https://www.nairaland.com/5793233/tolu-ibitola-gives-palliatives-residents\n",
      "OP:  sojiboy\n",
      "Date Posted:  3:04pm On Apr 14\n",
      "Category:  Politics\n",
      "\n"
     ]
    }
   ],
   "source": [
    "for post in children:\n",
    "    topic = post.get_text()\n",
    "    url = post['href']\n",
    "    def details(post_url):\n",
    "        thread_post = requests.get(post_url).text\n",
    "        thread_soup = BeautifulSoup(thread_post, 'html.parser')\n",
    "        author = thread_soup.find('a', {'class':\"user\"}).get_text()\n",
    "        date_posted = thread_soup.find('span', {'class': 's'}).get_text()\n",
    "        category = thread_soup.find('p', {'class': 'bold'}).findChildren(\n",
    "            'a', recursive=False)[2].get_text()\n",
    "        return author, date_posted, category\n",
    "    op = details(url)[0]\n",
    "    date_posted = details(url)[1]\n",
    "    category = details(url)[2]\n",
    "    print('Topic: ',topic)\n",
    "    print('url: ',url)\n",
    "    print('OP: ', op)\n",
    "    print('Date Posted: ', date_posted)\n",
    "    print('Category: ', category)\n",
    "    print('')\n",
    "    \n",
    "\n",
    "   "
   ]
  },
  {
   "cell_type": "code",
   "execution_count": null,
   "metadata": {},
   "outputs": [],
   "source": []
  }
 ],
 "metadata": {
  "kernelspec": {
   "display_name": "Python 3",
   "language": "python",
   "name": "python3"
  },
  "language_info": {
   "codemirror_mode": {
    "name": "ipython",
    "version": 3
   },
   "file_extension": ".py",
   "mimetype": "text/x-python",
   "name": "python",
   "nbconvert_exporter": "python",
   "pygments_lexer": "ipython3",
   "version": "3.7.3"
  }
 },
 "nbformat": 4,
 "nbformat_minor": 2
}
